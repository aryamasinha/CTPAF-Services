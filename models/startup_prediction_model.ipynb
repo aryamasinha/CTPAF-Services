{
  "nbformat": 4,
  "nbformat_minor": 0,
  "metadata": {
    "colab": {
      "name": "startup_success_prediction.ipynb",
      "provenance": [],
      "collapsed_sections": []
    },
    "kernelspec": {
      "name": "python3",
      "display_name": "Python 3"
    },
    "language_info": {
      "name": "python"
    }
  },
  "cells": [
    {
      "cell_type": "code",
      "metadata": {
        "id": "mQRIvWAfq0EQ",
        "colab": {
          "base_uri": "https://localhost:8080/"
        },
        "outputId": "23827e60-6b9d-48f5-e728-0608ed75ed1b"
      },
      "source": [
        "# import statements\n",
        "import pandas as pd\n",
        "import numpy as np\n",
        "import matplotlib.pyplot as plt\n",
        "\n",
        "from sklearn import preprocessing\n",
        "from sklearn.linear_model import LogisticRegression\n",
        "from sklearn.model_selection import train_test_split\n",
        "\n",
        "\n",
        "df = pd.read_csv('startup_data.csv', header=0)\n",
        "df = df.dropna()\n",
        "\n",
        "#drop columns which are not needed.\n",
        "df.drop(df.columns[[0,3,4,5,6,7,8,9,10,11,12]],axis = 1, inplace = True)\n",
        "\n",
        "#drop columns which are not needed.\n",
        "data = pd.get_dummies(df, columns =['city', 'category_code', 'has_VC', 'has_angel'])\n",
        "\n",
        "X = data.iloc[:,1:]\n",
        "Y = data.iloc[:,0]\n",
        "\n",
        "X_train, X_test, Y_train, Y_test = train_test_split(X, Y, random_state=0)\n",
        "\n",
        "classifier = LogisticRegression(solver='lbfgs',random_state=0)\n",
        "classifier.fit(X_train, Y_train)\n",
        "\n",
        "predicted_y = classifier.predict(X_test)\n",
        "\n",
        "print('Accuracy: {:.2f}'.format(classifier.score(X_test, Y_test)))"
      ],
      "execution_count": 35,
      "outputs": [
        {
          "output_type": "stream",
          "text": [
            "Accuracy: 0.66\n"
          ],
          "name": "stdout"
        }
      ]
    }
  ]
}