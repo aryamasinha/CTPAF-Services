{
  "nbformat": 4,
  "nbformat_minor": 0,
  "metadata": {
    "colab": {
      "name": "Untitled1.ipynb",
      "provenance": [],
      "collapsed_sections": []
    },
    "kernelspec": {
      "name": "python3",
      "display_name": "Python 3"
    },
    "language_info": {
      "name": "python"
    }
  },
  "cells": [
    {
      "cell_type": "code",
      "metadata": {
        "id": "5dP7ICo4WJCR",
        "colab": {
          "base_uri": "https://localhost:8080/"
        },
        "outputId": "0eccf4fb-ec63-4c5d-9dd1-21932ac700cb"
      },
      "source": [
        "import time\n",
        "import pandas as pd\n",
        "import matplotlib.pyplot as plt\n",
        "import numpy as np\n",
        "import seaborn as sns\n",
        "from operator import itemgetter\n",
        "\n",
        "df = pd.read_csv(\"dataScience_data.csv\", index_col=0)\n",
        "df = df.dropna()\n",
        "df = df.apply(lambda x: x.astype(str).str.lower())\n",
        "df['skills'] = df['skills'].apply(lambda x: x.split('\\n'))\n",
        "df_skills=pd.DataFrame(df.skills.apply(pd.Series).stack().value_counts()).reset_index()\n",
        "df_skills.columns=[\"skills\",\"count\"]\n",
        "df_skills.head()\n",
        "total=df_skills['count'].sum()\n",
        "def findweight(row):\n",
        "    return (row['count']/total) * 100\n",
        "\n",
        "df_skills['weightage']=df_skills.apply(lambda row: findweight(row), axis=1)\n",
        "weight_dict=dict(zip(df_skills.skills,df_skills.weightage))\n",
        "personal_skills=['machine learning','data science','analytics','data mining']\n",
        "percent=0\n",
        "for i in personal_skills:\n",
        "    percent+= weight_dict[i]\n",
        "\n",
        "score = round(percent)\n",
        "print(score)\n"
      ],
      "execution_count": 8,
      "outputs": [
        {
          "output_type": "stream",
          "text": [
            "17\n"
          ],
          "name": "stdout"
        }
      ]
    }
  ]
}