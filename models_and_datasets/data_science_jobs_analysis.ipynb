{
  "nbformat": 4,
  "nbformat_minor": 0,
  "metadata": {
    "kernelspec": {
      "display_name": "Python 3",
      "language": "python",
      "name": "python3"
    },
    "language_info": {
      "codemirror_mode": {
        "name": "ipython",
        "version": 3
      },
      "file_extension": ".py",
      "mimetype": "text/x-python",
      "name": "python",
      "nbconvert_exporter": "python",
      "pygments_lexer": "ipython3",
      "version": "3.5.2"
    },
    "colab": {
      "name": "exploring-data-science-job-opportunities-in-india.ipynb",
      "provenance": []
    }
  },
  "cells": [
    {
      "cell_type": "markdown",
      "metadata": {
        "id": "S-yegqWIUuGh"
      },
      "source": [
        "# Data Science Job Market in India. "
      ]
    },
    {
      "cell_type": "markdown",
      "metadata": {
        "id": "iySbKD97UuGk"
      },
      "source": [
        "![image.png](attachment:image.png)"
      ]
    },
    {
      "cell_type": "code",
      "metadata": {
        "_kg_hide-input": false,
        "id": "Oa795GFOUuGm"
      },
      "source": [
        "#import necessary packages\n",
        "import time\n",
        "import pandas as pd\n",
        "import matplotlib.pyplot as plt\n",
        "import numpy as np\n",
        "import seaborn as sns\n",
        "from operator import itemgetter"
      ],
      "execution_count": null,
      "outputs": []
    },
    {
      "cell_type": "code",
      "metadata": {
        "_kg_hide-input": false,
        "id": "AF3SegwmUuGn"
      },
      "source": [
        "df = pd.read_csv(\"DataScience_jobs.csv\", index_col=0)"
      ],
      "execution_count": null,
      "outputs": []
    },
    {
      "cell_type": "code",
      "metadata": {
        "_kg_hide-input": false,
        "id": "wCucTK6RUuGo",
        "colab": {
          "base_uri": "https://localhost:8080/"
        },
        "outputId": "5264933d-6d01-48b3-b1c8-321a78bd4eda"
      },
      "source": [
        "df.info()"
      ],
      "execution_count": null,
      "outputs": [
        {
          "output_type": "stream",
          "text": [
            "<class 'pandas.core.frame.DataFrame'>\n",
            "Int64Index: 1282 entries, 0 to 1281\n",
            "Data columns (total 5 columns):\n",
            " #   Column      Non-Null Count  Dtype \n",
            "---  ------      --------------  ----- \n",
            " 0   roles       1282 non-null   object\n",
            " 1   companies   1282 non-null   object\n",
            " 2   locations   1282 non-null   object\n",
            " 3   experience  1282 non-null   object\n",
            " 4   skills      1279 non-null   object\n",
            "dtypes: object(5)\n",
            "memory usage: 60.1+ KB\n"
          ],
          "name": "stdout"
        }
      ]
    },
    {
      "cell_type": "code",
      "metadata": {
        "_kg_hide-input": false,
        "id": "pPZv6A24UuGp"
      },
      "source": [
        "df = df.dropna()"
      ],
      "execution_count": null,
      "outputs": []
    },
    {
      "cell_type": "code",
      "metadata": {
        "_kg_hide-input": false,
        "id": "sR99Zt9_UuGp"
      },
      "source": [
        "df = df.apply(lambda x: x.astype(str).str.lower())"
      ],
      "execution_count": null,
      "outputs": []
    },
    {
      "cell_type": "code",
      "metadata": {
        "_kg_hide-input": true,
        "id": "TxbW7KgJUuGq"
      },
      "source": [
        "df['skills'] = df['skills'].apply(lambda x: x.split('\\n'))"
      ],
      "execution_count": null,
      "outputs": []
    },
    {
      "cell_type": "code",
      "metadata": {
        "_kg_hide-input": true,
        "id": "gKSlzQYKUuGt",
        "colab": {
          "base_uri": "https://localhost:8080/",
          "height": 204
        },
        "outputId": "21b44531-737b-44b7-ad1e-df2cf92db06a"
      },
      "source": [
        "#lets convert the skills column into a seperate DataFrame, which makes things easy for preo processing\n",
        "df_skills=pd.DataFrame(df.skills.apply(pd.Series).stack().value_counts()).reset_index()\n",
        "df_skills.columns=[\"skills\",\"count\"]\n",
        "df_skills.head()"
      ],
      "execution_count": null,
      "outputs": [
        {
          "output_type": "execute_result",
          "data": {
            "text/html": [
              "<div>\n",
              "<style scoped>\n",
              "    .dataframe tbody tr th:only-of-type {\n",
              "        vertical-align: middle;\n",
              "    }\n",
              "\n",
              "    .dataframe tbody tr th {\n",
              "        vertical-align: top;\n",
              "    }\n",
              "\n",
              "    .dataframe thead th {\n",
              "        text-align: right;\n",
              "    }\n",
              "</style>\n",
              "<table border=\"1\" class=\"dataframe\">\n",
              "  <thead>\n",
              "    <tr style=\"text-align: right;\">\n",
              "      <th></th>\n",
              "      <th>skills</th>\n",
              "      <th>count</th>\n",
              "    </tr>\n",
              "  </thead>\n",
              "  <tbody>\n",
              "    <tr>\n",
              "      <th>0</th>\n",
              "      <td>machine learning</td>\n",
              "      <td>688</td>\n",
              "    </tr>\n",
              "    <tr>\n",
              "      <th>1</th>\n",
              "      <td>data science</td>\n",
              "      <td>412</td>\n",
              "    </tr>\n",
              "    <tr>\n",
              "      <th>2</th>\n",
              "      <td>python</td>\n",
              "      <td>290</td>\n",
              "    </tr>\n",
              "    <tr>\n",
              "      <th>3</th>\n",
              "      <td>data mining</td>\n",
              "      <td>266</td>\n",
              "    </tr>\n",
              "    <tr>\n",
              "      <th>4</th>\n",
              "      <td>analytics</td>\n",
              "      <td>197</td>\n",
              "    </tr>\n",
              "  </tbody>\n",
              "</table>\n",
              "</div>"
            ],
            "text/plain": [
              "             skills  count\n",
              "0  machine learning    688\n",
              "1      data science    412\n",
              "2            python    290\n",
              "3       data mining    266\n",
              "4         analytics    197"
            ]
          },
          "metadata": {
            "tags": []
          },
          "execution_count": 22
        }
      ]
    },
    {
      "cell_type": "code",
      "metadata": {
        "id": "anAn7ZQhUuGt",
        "colab": {
          "base_uri": "https://localhost:8080/"
        },
        "outputId": "b0098537-0a6e-422b-a804-7d982e18d5d7"
      },
      "source": [
        "df_skills_relev=df_skills.head(20)\n",
        "total=df_skills_relev['count'].sum()\n",
        "print(total)"
      ],
      "execution_count": null,
      "outputs": [
        {
          "output_type": "stream",
          "text": [
            "3973\n"
          ],
          "name": "stdout"
        }
      ]
    },
    {
      "cell_type": "code",
      "metadata": {
        "id": "XsazsidIUuGu"
      },
      "source": [
        "def findweight(row):\n",
        "    return (row['count']/total) * 100"
      ],
      "execution_count": null,
      "outputs": []
    },
    {
      "cell_type": "code",
      "metadata": {
        "id": "a52feZ0zUuGu",
        "colab": {
          "base_uri": "https://localhost:8080/"
        },
        "outputId": "26cd47de-0efd-49dd-d3c3-fe5f58a43676"
      },
      "source": [
        "df_skills_relev['weightage']=df_skills_relev.apply(lambda row: findweight(row), axis=1)"
      ],
      "execution_count": null,
      "outputs": [
        {
          "output_type": "stream",
          "text": [
            "/usr/local/lib/python3.7/dist-packages/ipykernel_launcher.py:1: SettingWithCopyWarning: \n",
            "A value is trying to be set on a copy of a slice from a DataFrame.\n",
            "Try using .loc[row_indexer,col_indexer] = value instead\n",
            "\n",
            "See the caveats in the documentation: https://pandas.pydata.org/pandas-docs/stable/user_guide/indexing.html#returning-a-view-versus-a-copy\n",
            "  \"\"\"Entry point for launching an IPython kernel.\n"
          ],
          "name": "stderr"
        }
      ]
    },
    {
      "cell_type": "code",
      "metadata": {
        "id": "acbNvUzhUuGu",
        "colab": {
          "base_uri": "https://localhost:8080/"
        },
        "outputId": "f60ba6b3-b408-4865-a534-8e8d7f93b6e2"
      },
      "source": [
        "weight_dict=dict(zip(df_skills_relev.skills,df_skills_relev.weightage))\n",
        "print(weight_dict)"
      ],
      "execution_count": null,
      "outputs": [
        {
          "output_type": "stream",
          "text": [
            "{'machine learning': 17.316889000755097, 'data science': 10.36999748301032, 'python': 7.2992700729927, 'data mining': 6.695192549710546, 'analytics': 4.9584696702743525, 'artificial intelligence': 4.832620186257237, 'r': 4.631261011829851, 'data scientist': 4.555751321419582, 'computer science': 4.354392146992198, 'data analysis': 3.9013340045305815, 'nlp': 3.674804933299773, 'sas': 3.64963503649635, 'deep learning': 3.4734457588723884, 'analytical': 3.372766171658696, 'sql': 3.2469166876415807, 'data analytics': 2.9700478228039264, 'statistics': 2.7435187515731188, 'big data': 2.7183488547696957, 'data management': 2.642839164359426, 'predictive modeling': 2.59249937075258}\n"
          ],
          "name": "stdout"
        }
      ]
    },
    {
      "cell_type": "code",
      "metadata": {
        "id": "JwjanHQJUuGv"
      },
      "source": [
        "personal_skills=['machine learning','data science','analytics','data mining']\n",
        "percent=0"
      ],
      "execution_count": null,
      "outputs": []
    },
    {
      "cell_type": "code",
      "metadata": {
        "colab": {
          "base_uri": "https://localhost:8080/"
        },
        "id": "oFKwc_R7Uvd1",
        "outputId": "78d97f80-efa6-4706-f670-f2c67fcb2ca5"
      },
      "source": [
        "for i in personal_skills:\n",
        "    percent+= weight_dict[i]\n",
        "print(percent)"
      ],
      "execution_count": null,
      "outputs": [
        {
          "output_type": "stream",
          "text": [
            "39.340548703750315\n"
          ],
          "name": "stdout"
        }
      ]
    }
  ]
}