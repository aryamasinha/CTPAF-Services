{
  "nbformat": 4,
  "nbformat_minor": 0,
  "metadata": {
    "colab": {
      "name": "startup_prediction_model.ipynb",
      "provenance": [],
      "collapsed_sections": []
    },
    "kernelspec": {
      "name": "python3",
      "display_name": "Python 3"
    },
    "language_info": {
      "name": "python"
    }
  },
  "cells": [
    {
      "cell_type": "code",
      "metadata": {
        "id": "mQRIvWAfq0EQ",
        "colab": {
          "base_uri": "https://localhost:8080/"
        },
        "outputId": "37cb92e1-ddde-4608-e169-2f94a45cd937"
      },
      "source": [
        "# import statements\n",
        "import pandas as pd\n",
        "import numpy as np\n",
        "import matplotlib.pyplot as plt\n",
        "\n",
        "from sklearn import preprocessing\n",
        "from sklearn.linear_model import LogisticRegression\n",
        "from sklearn.model_selection import train_test_split\n",
        "\n",
        "\n",
        "df = pd.read_csv('startup_data.csv', header=0)\n",
        "df = df.dropna()\n",
        "df.drop(df.columns[[0]], axis = 1, inplace = True)\n",
        "\n",
        "data = pd.get_dummies(df, columns =['city', 'category_code', 'has_VC', 'has_angel'])\n",
        "\n",
        "data\n",
        "X = data.iloc[:,1:]\n",
        "Y = data.iloc[:,0]\n",
        "\n",
        "X_train, X_test, Y_train, Y_test = train_test_split(X, Y, random_state=0)\n",
        "\n",
        "classifier = LogisticRegression(solver='lbfgs',random_state=0)\n",
        "classifier.fit(X_train, Y_train)\n",
        "\n",
        "predicted_y = classifier.predict(X_test)\n",
        "\n",
        "print('Accuracy: {:.2f}'.format(classifier.score(X_test, Y_test)))\n",
        "\n"
      ],
      "execution_count": 49,
      "outputs": [
        {
          "output_type": "stream",
          "text": [
            "Accuracy: 0.66\n"
          ],
          "name": "stdout"
        }
      ]
    },
    {
      "cell_type": "code",
      "metadata": {
        "id": "SllMAPHUOnNy"
      },
      "source": [
        ""
      ],
      "execution_count": null,
      "outputs": []
    }
  ]
}